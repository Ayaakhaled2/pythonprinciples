{
 "cells": [
  {
   "cell_type": "markdown",
   "id": "2c559409",
   "metadata": {},
   "source": [
    "## Challenge 1 \n",
    "## Capital indexes\n",
    "Write a function named capital_indexes. The function takes a single parameter, which is a string. Your function should return a list of all the indexes in the string that have capital letters.\n",
    "\n",
    "For example, calling capital_indexes(\"HeLlO\") should return the list [0, 2, 4].\n",
    "\n",
    "\n",
    "Answer:"
   ]
  },
  {
   "cell_type": "code",
   "execution_count": 9,
   "id": "35720e73",
   "metadata": {},
   "outputs": [],
   "source": [
    " \n",
    "def capital_indexes(astr):\n",
    "    idx_char = []\n",
    "    for idx , character in enumerate(astr):\n",
    "        if character.isupper():\n",
    "            idx_char.append(idx)\n",
    "    return idx_char\n",
    "    \n",
    "  "
   ]
  },
  {
   "cell_type": "markdown",
   "id": "afbc89fc",
   "metadata": {},
   "source": [
    "##### Note : \n",
    "What happens when the string contains a duplicate character? from my experience with index() I saw that for duplicate you get back the same index.\n",
    "#In that case you can do something like that:\n",
    "for i, character in enumerate(my_string):\n",
    "    i is the position of the character in the string"
   ]
  },
  {
   "cell_type": "markdown",
   "id": "752f75c8",
   "metadata": {},
   "source": [
    "## Challenge 2 \n",
    "## Middle letter\n",
    "Write a function named mid that takes a string as its parameter. Your function should extract and return the middle letter. If there is no middle letter, your function should return the empty string.\n",
    "\n",
    "For example, mid(\"abc\") should return \"b\" and mid(\"aaaa\") should return \"\"."
   ]
  },
  {
   "cell_type": "code",
   "execution_count": 10,
   "id": "e3982d40",
   "metadata": {},
   "outputs": [],
   "source": [
    "def mid(word):\n",
    "    if len(word) % 2 != 0: #not even \n",
    "        mid_value = int(len(word) / 2)\n",
    "        mid = word[mid_value]\n",
    "    else:\n",
    "        mid = ''\n",
    "    return mid"
   ]
  },
  {
   "cell_type": "code",
   "execution_count": 11,
   "id": "4f2d308c",
   "metadata": {},
   "outputs": [],
   "source": [
    "## ideal solution \n",
    "# this approach uses // which is integer division in Python 3\n",
    "# alternatively, use / and int() in combination.\n",
    "def mid(string):\n",
    "    if len(string) % 2 == 0:\n",
    "        return \"\"\n",
    "    return string[len(string)//2]"
   ]
  },
  {
   "cell_type": "markdown",
   "id": "248b8d47",
   "metadata": {},
   "source": [
    "## Challenge3\n",
    "### Online status\n",
    "The aim of this challenge is, given a dictionary of people's online status, to count the number of people who are online.\n",
    "\n",
    "For example, consider the following dictionary:\n",
    "\n",
    "statuses = {\n",
    "    \"Alice\": \"online\",\n",
    "    \"Bob\": \"offline\",\n",
    "    \"Eve\": \"online\",\n",
    "}\n",
    "In this case, the number of people online is 2.\n",
    "\n",
    "Write a function named online_count that takes one parameter. The parameter is a dictionary that maps from strings of names to the string \"online\" or \"offline\", as seen above.\n",
    "\n",
    "Your function should return the number of people who are online."
   ]
  },
  {
   "cell_type": "code",
   "execution_count": 12,
   "id": "61be3a9f",
   "metadata": {},
   "outputs": [],
   "source": [
    "def online_count(dict):\n",
    "    count = 0 \n",
    "    for k , v in dict.items():\n",
    "        if dict[k] == \"online\":\n",
    "            count += 1 \n",
    "    return count"
   ]
  },
  {
   "cell_type": "markdown",
   "id": "79dd2c1a",
   "metadata": {},
   "source": [
    "## Challenge 4 \n",
    "### Randomness\n",
    "Define a function, random_number, that takes no parameters. The function must generate a random integer between 1 and 100, both inclusive, and return it.\n",
    "\n",
    "Calling the function multiple times should (usually) return different numbers.\n",
    "\n",
    "For example, calling random_number() some times might first return 42, then 63, then 1."
   ]
  },
  {
   "cell_type": "code",
   "execution_count": 13,
   "id": "c1f66b93",
   "metadata": {},
   "outputs": [],
   "source": [
    "import random\n",
    "def random_number():\n",
    "        # 1 to 100 \n",
    "    n = random.randint(1,101)\n",
    "    return n"
   ]
  },
  {
   "cell_type": "markdown",
   "id": "1530acd6",
   "metadata": {},
   "source": [
    "## Challenge 5 \n",
    "### Type check\n",
    "Write a function named only_ints that takes two parameters. Your function should return True if both parameters are integers, and False otherwise.\n",
    "\n",
    "For example, calling only_ints(1, 2) should return True, while calling only_ints(\"a\", 1) should return False."
   ]
  },
  {
   "cell_type": "code",
   "execution_count": 14,
   "id": "fd94bb67",
   "metadata": {},
   "outputs": [],
   "source": [
    "def only_ints(inp1 , inp2):\n",
    "    return (type(inp1) == int and type(inp2) == int)"
   ]
  }
 ],
 "metadata": {
  "kernelspec": {
   "display_name": "Python 3",
   "language": "python",
   "name": "python3"
  },
  "language_info": {
   "codemirror_mode": {
    "name": "ipython",
    "version": 3
   },
   "file_extension": ".py",
   "mimetype": "text/x-python",
   "name": "python",
   "nbconvert_exporter": "python",
   "pygments_lexer": "ipython3",
   "version": "3.8.8"
  }
 },
 "nbformat": 4,
 "nbformat_minor": 5
}
